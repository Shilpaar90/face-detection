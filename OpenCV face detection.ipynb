{
 "cells": [
  {
   "cell_type": "code",
   "execution_count": 1,
   "metadata": {},
   "outputs": [
    {
     "name": "stdout",
     "output_type": "stream",
     "text": [
      "Requirement already satisfied: opencv-python in c:\\users\\ndh00203\\anaconda3\\lib\\site-packages (4.5.2.54)\n",
      "Requirement already satisfied: numpy>=1.14.5 in c:\\users\\ndh00203\\anaconda3\\lib\\site-packages (from opencv-python) (1.19.5)\n",
      "Note: you may need to restart the kernel to use updated packages.\n"
     ]
    }
   ],
   "source": [
    "pip install opencv-python"
   ]
  },
  {
   "cell_type": "code",
   "execution_count": 2,
   "metadata": {},
   "outputs": [],
   "source": [
    "import cv2"
   ]
  },
  {
   "cell_type": "code",
   "execution_count": 3,
   "metadata": {},
   "outputs": [
    {
     "data": {
      "text/plain": [
       "'4.5.2'"
      ]
     },
     "execution_count": 3,
     "metadata": {},
     "output_type": "execute_result"
    }
   ],
   "source": [
    "cv2.__version__"
   ]
  },
  {
   "cell_type": "code",
   "execution_count": 3,
   "metadata": {},
   "outputs": [],
   "source": [
    "#Get realtime feed from camera\n",
    "\n",
    "import cv2\n",
    "\n",
    "#Enable camera\n",
    "\n",
    "camera = cv2.VideoCapture(0)\n",
    "\n",
    "#Show camera feed\n",
    "while True:\n",
    "    _,frame = camera.read()\n",
    "    \n",
    "    #Display frame\n",
    "    cv2.imshow(\"Camera feed\", frame)\n",
    "    \n",
    "    #Termination condition - Press Q to exit\n",
    "    if cv2.waitKey(1) & 0xFF== ord('q'):\n",
    "        break\n",
    "        \n",
    "camera.release()\n",
    "cv2.destroyAllWindows()\n",
    "    \n",
    "    "
   ]
  },
  {
   "cell_type": "code",
   "execution_count": 2,
   "metadata": {},
   "outputs": [
    {
     "ename": "AttributeError",
     "evalue": "module 'cv2.cv2' has no attribute 'releaseAllWindows'",
     "output_type": "error",
     "traceback": [
      "\u001b[1;31m---------------------------------------------------------------------------\u001b[0m",
      "\u001b[1;31mAttributeError\u001b[0m                            Traceback (most recent call last)",
      "\u001b[1;32m<ipython-input-2-57fc44a9d83a>\u001b[0m in \u001b[0;36m<module>\u001b[1;34m\u001b[0m\n\u001b[0;32m      1\u001b[0m \u001b[0mcamera\u001b[0m\u001b[1;33m.\u001b[0m\u001b[0mrelease\u001b[0m\u001b[1;33m(\u001b[0m\u001b[1;33m)\u001b[0m\u001b[1;33m\u001b[0m\u001b[1;33m\u001b[0m\u001b[0m\n\u001b[1;32m----> 2\u001b[1;33m \u001b[0mcv2\u001b[0m\u001b[1;33m.\u001b[0m\u001b[0mreleaseAllWindows\u001b[0m\u001b[1;33m(\u001b[0m\u001b[1;33m)\u001b[0m\u001b[1;33m\u001b[0m\u001b[1;33m\u001b[0m\u001b[0m\n\u001b[0m",
      "\u001b[1;31mAttributeError\u001b[0m: module 'cv2.cv2' has no attribute 'releaseAllWindows'"
     ]
    }
   ],
   "source": [
    "camera.release()\n",
    "cv2.destroyAllWindows()"
   ]
  },
  {
   "cell_type": "code",
   "execution_count": 4,
   "metadata": {},
   "outputs": [],
   "source": [
    "#Get realtime feed from camera and save frames\n",
    "\n",
    "import cv2\n",
    "import time\n",
    "\n",
    "#Enable camera\n",
    "\n",
    "camera = cv2.VideoCapture(0)\n",
    "\n",
    "counter = 1\n",
    "#Show camera feed\n",
    "while True:\n",
    "    _,frame = camera.read()\n",
    "    \n",
    "    #Display frame\n",
    "    cv2.imshow(\"Camera feed\", frame)\n",
    "    \n",
    "    cv2.imwrite(\"dataset/Shilpa_{}.jpg\".format(counter), frame)\n",
    "    #Termination condition - Press Q to exit\n",
    "    if counter == 10:\n",
    "        break\n",
    "    else:\n",
    "        time.sleep(2)\n",
    "        counter +=1\n",
    "        \n",
    "camera.release()\n",
    "cv2.destroyAllWindows()\n",
    "    \n",
    "    "
   ]
  },
  {
   "cell_type": "code",
   "execution_count": null,
   "metadata": {},
   "outputs": [],
   "source": [
    "cv2.releaseAllWindows()\n"
   ]
  },
  {
   "cell_type": "code",
   "execution_count": 11,
   "metadata": {},
   "outputs": [],
   "source": [
    "  \n",
    "    \n",
    "#Get realtime feed from camera and detect faces\n",
    "\n",
    "import cv2\n",
    "import time\n",
    "\n",
    "#Enable camera\n",
    "\n",
    "\n",
    "faceModel = cv2.CascadeClassifier(\"haarcascade_frontalface_default.xml\")\n",
    "\n",
    "\n",
    "def detectFaceFromCamera(frame):\n",
    "    imgCopy = frame.copy()\n",
    "    faceRectCords = faceModel.detectMultiScale(imgCopy)\n",
    "    for (x,y,w,h) in faceRectCords:\n",
    "        cv2.rectangle(imgCopy, (x,y), (x+w,y+h), (0,255,0), 3)\n",
    "    return imgCopy\n",
    "\n",
    "camera = cv2.VideoCapture(0)\n",
    "\n",
    "counter = 1\n",
    "#Show camera feed\n",
    "while True:\n",
    "    _,frame = camera.read()\n",
    "    \n",
    "    newFrame = detectFaceFromCamera(frame)\n",
    "    \n",
    "        \n",
    "    #Display frame\n",
    "    cv2.imshow(\"Camera feed\", newFrame)\n",
    "    \n",
    "    #Termination condition - Press Q to exit\n",
    "    if counter == 30:\n",
    "        break\n",
    "    else:\n",
    "        time.sleep(0.3)\n",
    "        counter +=1\n",
    "        #Termination Condition ---- Press Q to exit\n",
    "    if cv2.waitKey(1) & 0xFF == ord('q'):\n",
    "        break\n",
    "        \n",
    "camera.release()\n",
    "cv2.destroyAllWindows()\n",
    "    "
   ]
  },
  {
   "cell_type": "code",
   "execution_count": 6,
   "metadata": {},
   "outputs": [],
   "source": [
    "camera.release()\n",
    "cv2.destroyAllWindows()\n"
   ]
  },
  {
   "cell_type": "code",
   "execution_count": null,
   "metadata": {},
   "outputs": [],
   "source": []
  }
 ],
 "metadata": {
  "kernelspec": {
   "display_name": "Python 3",
   "language": "python",
   "name": "python3"
  },
  "language_info": {
   "codemirror_mode": {
    "name": "ipython",
    "version": 3
   },
   "file_extension": ".py",
   "mimetype": "text/x-python",
   "name": "python",
   "nbconvert_exporter": "python",
   "pygments_lexer": "ipython3",
   "version": "3.7.3"
  }
 },
 "nbformat": 4,
 "nbformat_minor": 4
}
